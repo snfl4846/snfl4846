{
 "cells": [
  {
   "cell_type": "markdown",
   "metadata": {},
   "source": [
    "1. 사용자로 부터 입력 받은 수를 num 이라는 변수에 담고, 그 수를 3.141592를 곱한 뒤 소수 1번째 자리까지만 나오도록 출력하세요 "
   ]
  },
  {
   "cell_type": "code",
   "execution_count": 3,
   "metadata": {},
   "outputs": [
    {
     "name": "stdout",
     "output_type": "stream",
     "text": [
      "당신이 입력한 숫자는 15이고,\n",
      "결과 값은 47.1입니다. \n"
     ]
    }
   ],
   "source": [
    "num = int(input(\"숫자를 입력하세요: \"))\n",
    "print(f\"당신이 입력한 숫자는 {num}이고,\\n결과 값은 {num * 3.141592:.1f}입니다. \")"
   ]
  },
  {
   "cell_type": "markdown",
   "metadata": {},
   "source": [
    "2. 사용자로부터 입력받은 초(second)를 시간, 분, 초로 변환하여 출력하는 프로그램을 작성하세요 (출력예시: 1시간 1분 1초)"
   ]
  },
  {
   "cell_type": "code",
   "execution_count": 10,
   "metadata": {},
   "outputs": [
    {
     "name": "stdout",
     "output_type": "stream",
     "text": [
      "당신이 입력한 숫자는 : 3661\n",
      "변환한 값은 1시간 1분 1초\n"
     ]
    }
   ],
   "source": [
    "numInput = int(input(\"초를 입력해 주세요\"))\n",
    "\n",
    "hour = numInput // (60 * 60)\n",
    "minute = numInput % (60 * 60) // 60\n",
    "second = numInput % 60\n",
    "\n",
    "print(f\"당신이 입력한 숫자는 : {numInput}\\n변환한 값은 {hour}시간 {minute}분 {second}초\")"
   ]
  },
  {
   "cell_type": "markdown",
   "metadata": {},
   "source": [
    "3. 아래 스크립트에서 '올림픽'이라는 글자 몇 번 출력되는가?  \n",
    "* script = \"하계 올림픽에 48년 만에 최소 선수(144명)를 보낸 대한민국 선수단이 2024 파리 올림픽에서 거침없이 금메달을 수집 중이다.\n",
    "파리 올림픽 태권도 남자 58㎏급에 출전한 박태준(20·경희대)은 7일(현지시간) 우리나라 남자 태권도 선수로는 16년 만에 올림픽 금메달을 목에 걸고 이번 대회 한국 선수단에 12번째 금메달을 선사했다.\""
   ]
  },
  {
   "cell_type": "code",
   "execution_count": 11,
   "metadata": {},
   "outputs": [
    {
     "name": "stdout",
     "output_type": "stream",
     "text": [
      "4\n"
     ]
    }
   ],
   "source": [
    "script = \"\"\"\n",
    "하계 올림픽에 48년 만에 최소 선수(144명)를 보낸 대한민국 선수단이 2024 \n",
    "파리 올림픽에서 거침없이 금메달을 수집 중이다.\n",
    "파리 올림픽 태권도 남자 58㎏급에 출전한 박태준(20·경희대)은 \n",
    "7일(현지시간) 우리나라 남자 태권도 선수로는 16년 만에 \n",
    "올림픽 금메달을 목에 걸고 이번 대회 한국 선수단에 12번째 금메달을 선사했다.\"\"\"\n",
    "\n",
    "print(script.count(\"올림픽\"))\n",
    "                            "
   ]
  },
  {
   "cell_type": "markdown",
   "metadata": {},
   "source": [
    "4. 위 스크립트에서 ( ) -> [ ] 변경해 주세요 "
   ]
  },
  {
   "cell_type": "code",
   "execution_count": 13,
   "metadata": {},
   "outputs": [
    {
     "data": {
      "text/plain": [
       "'\\n하계 올림픽에 48년 만에 최소 선수[144명]를 보낸 대한민국 선수단이 2024 \\n파리 올림픽에서 거침없이 금메달을 수집 중이다.\\n파리 올림픽 태권도 남자 58㎏급에 출전한 박태준[20·경희대]은 \\n7일[현지시간] 우리나라 남자 태권도 선수로는 16년 만에 \\n올림픽 금메달을 목에 걸고 이번 대회 한국 선수단에 12번째 금메달을 선사했다.'"
      ]
     },
     "execution_count": 13,
     "metadata": {},
     "output_type": "execute_result"
    }
   ],
   "source": [
    "script = \"\"\"\n",
    "하계 올림픽에 48년 만에 최소 선수(144명)를 보낸 대한민국 선수단이 2024 \n",
    "파리 올림픽에서 거침없이 금메달을 수집 중이다.\n",
    "파리 올림픽 태권도 남자 58㎏급에 출전한 박태준(20·경희대)은 \n",
    "7일(현지시간) 우리나라 남자 태권도 선수로는 16년 만에 \n",
    "올림픽 금메달을 목에 걸고 이번 대회 한국 선수단에 12번째 금메달을 선사했다.\"\"\"\n",
    "\n",
    "script.replace(\"(\", \"[\").replace(\")\", \"]\")"
   ]
  },
  {
   "cell_type": "markdown",
   "metadata": {},
   "source": [
    "5. a = \"python\" 를 [\"p\", \"y\", \"t\", \"h\", \"o\", \"n\"] 으로 만들어보세요 "
   ]
  },
  {
   "cell_type": "code",
   "execution_count": 16,
   "metadata": {},
   "outputs": [
    {
     "data": {
      "text/plain": [
       "['p', 'y', 't', 'h', 'o', 'n']"
      ]
     },
     "execution_count": 16,
     "metadata": {},
     "output_type": "execute_result"
    }
   ],
   "source": [
    "a = \"python\"\n",
    "b =\",\".join(a)\n",
    "b.split(\",\")"
   ]
  },
  {
   "cell_type": "markdown",
   "metadata": {},
   "source": [
    "6. 문자열 a = \"hello World from Python\" 을 [\"hello\", \"World\", \"from\", \"Python\"] 로 변환시키고 입력받은 이름을 리스트 마지막에 추가히세요 "
   ]
  },
  {
   "cell_type": "code",
   "execution_count": 20,
   "metadata": {},
   "outputs": [
    {
     "name": "stdout",
     "output_type": "stream",
     "text": [
      "['hello', 'World', 'from', 'Python', '조현일']\n"
     ]
    }
   ],
   "source": [
    "a = \"hello World from Python\"\n",
    "b = a.split()\n",
    "name = input(\"당신을 이름을 입력 해 주세요: \")\n",
    "b.append(name)\n",
    "print(b)"
   ]
  },
  {
   "cell_type": "markdown",
   "metadata": {},
   "source": [
    "7. a = [], fav = [\"사과\", \"포도\", \"배\", \"감자\", \"수박\", \"옥수수\", \"고구마\", \"딸기\"] 에서 \"딸기\"와 \"고구마\"를 뺀 나머지 리스트를 pop() 이용하여 출력하고, 추출한 \"딸기\"와 \"고구마\"를 a 리스트에 append()를 활용하여 추가하세요 "
   ]
  },
  {
   "cell_type": "code",
   "execution_count": 22,
   "metadata": {},
   "outputs": [
    {
     "name": "stdout",
     "output_type": "stream",
     "text": [
      "['사과', '포도', '배', '감자', '수박', '옥수수']\n",
      "['딸기', '고구마']\n"
     ]
    }
   ],
   "source": [
    "a = []\n",
    "fav = [\"사과\", \"포도\", \"배\", \"감자\", \"수박\", \"옥수수\", \"고구마\", \"딸기\"]\n",
    "straw = fav.pop()\n",
    "sweet = fav.pop()\n",
    "print(fav)\n",
    "\n",
    "a.append(straw)\n",
    "a.append(sweet)\n",
    "print(a)"
   ]
  },
  {
   "cell_type": "markdown",
   "metadata": {},
   "source": [
    "8. fav = [\"사과\", \"포도\", \"배\", \"감자\", \"수박\", \"옥수수\", \"고구마\", \"딸기\"] 리스트 슬라이싱을 활용하여 [\"배\", \"감자\", \"수박\", \"옥수수\"] 만들어서 b 변수에 대입하세요 그리고 사용자로부터 가장 좋아하는 음식을 입력받아서 b리스트의 3번째 요소에 입력하세요 "
   ]
  },
  {
   "cell_type": "code",
   "execution_count": 25,
   "metadata": {},
   "outputs": [
    {
     "name": "stdout",
     "output_type": "stream",
     "text": [
      "['배', '감자', '수박', '옥수수']\n",
      "['배', '감자', '김치', '수박', '옥수수']\n"
     ]
    }
   ],
   "source": [
    "fav = [\"사과\", \"포도\", \"배\", \"감자\", \"수박\", \"옥수수\", \"고구마\", \"딸기\"]\n",
    "b = fav[2:6]\n",
    "print(b)\n",
    "\n",
    "food = input(\"당신이 좋아하는 음식은?: \")\n",
    "b.insert(2, food)\n",
    "print(b)"
   ]
  },
  {
   "cell_type": "markdown",
   "metadata": {},
   "source": []
  }
 ],
 "metadata": {
  "kernelspec": {
   "display_name": "Python 3",
   "language": "python",
   "name": "python3"
  },
  "language_info": {
   "codemirror_mode": {
    "name": "ipython",
    "version": 3
   },
   "file_extension": ".py",
   "mimetype": "text/x-python",
   "name": "python",
   "nbconvert_exporter": "python",
   "pygments_lexer": "ipython3",
   "version": "3.12.4"
  }
 },
 "nbformat": 4,
 "nbformat_minor": 2
}
