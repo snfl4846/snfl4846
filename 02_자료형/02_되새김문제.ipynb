{
 "cells": [
  {
   "cell_type": "code",
   "execution_count": 1,
   "metadata": {},
   "outputs": [
    {
     "name": "stdout",
     "output_type": "stream",
     "text": [
      "70.0\n",
      "70.0\n"
     ]
    }
   ],
   "source": [
    "# 01. 홍길동씨의 평균점수 구하기\n",
    "\n",
    "a = {'국어' : 80, '영어' : 75, '수학' : 55}\n",
    "print((a['국어'] + a['영어'] + a['수학'])/ 3)\n",
    "\n",
    "ko = 80\n",
    "en = 75\n",
    "ma = 55\n",
    "\n",
    "ave = (ko + en + ma) / 3\n",
    "print(ave)"
   ]
  },
  {
   "cell_type": "code",
   "execution_count": 3,
   "metadata": {},
   "outputs": [
    {
     "name": "stdout",
     "output_type": "stream",
     "text": [
      "False\n"
     ]
    }
   ],
   "source": [
    "# 02. 홀수 짝수 판별하기\n",
    "\n",
    "num = 13\n",
    "\n",
    "result = num % 2 == 0\n",
    "\n",
    "print(result)"
   ]
  },
  {
   "cell_type": "code",
   "execution_count": 4,
   "metadata": {},
   "outputs": [
    {
     "name": "stdout",
     "output_type": "stream",
     "text": [
      "881120\n",
      "1068234\n"
     ]
    }
   ],
   "source": [
    "# 03. 주민등록번호 나누기\n",
    "\n",
    "pin = \"881120-1068234\"\n",
    "\n",
    "yyyymmdd = pin[0:6]\n",
    "num = pin[7:]\n",
    "\n",
    "print(yyyymmdd)\n",
    "print(num)"
   ]
  },
  {
   "cell_type": "code",
   "execution_count": 5,
   "metadata": {},
   "outputs": [
    {
     "name": "stdout",
     "output_type": "stream",
     "text": [
      "['881120', '1068234']\n"
     ]
    }
   ],
   "source": [
    "pin = \"881120-1068234\"\n",
    "\n",
    "result = pin.split(\"-\")\n",
    "\n",
    "print(result)"
   ]
  },
  {
   "cell_type": "code",
   "execution_count": 6,
   "metadata": {},
   "outputs": [
    {
     "name": "stdout",
     "output_type": "stream",
     "text": [
      "1\n"
     ]
    }
   ],
   "source": [
    "# 04. 주민등록번호 인덱싱\n",
    "\n",
    "pin = \"881120-1068234\"\n",
    "print(pin[7])\n"
   ]
  },
  {
   "cell_type": "code",
   "execution_count": 8,
   "metadata": {},
   "outputs": [
    {
     "name": "stdout",
     "output_type": "stream",
     "text": [
      "a#b#c#d\n"
     ]
    }
   ],
   "source": [
    "# 05. 문자열 바꾸기\n",
    "a = \"a:b:c:d\"\n",
    "b = a.replace(\":\", \"#\")\n",
    "\n",
    "print(b)"
   ]
  },
  {
   "cell_type": "code",
   "execution_count": 10,
   "metadata": {},
   "outputs": [
    {
     "name": "stdout",
     "output_type": "stream",
     "text": [
      "[5, 4, 3, 2, 1]\n"
     ]
    }
   ],
   "source": [
    "# 06. 리스트 역순 정렬하기\n",
    "a = [1, 3, 5, 4, 2]\n",
    "a.sort()\n",
    "a.reverse()\n",
    "\n",
    "print(a)"
   ]
  },
  {
   "cell_type": "code",
   "execution_count": 11,
   "metadata": {},
   "outputs": [
    {
     "name": "stdout",
     "output_type": "stream",
     "text": [
      "Life is too short\n"
     ]
    }
   ],
   "source": [
    "# 07. 리스트를 문자열로 만들기\n",
    "a = [\"Life\", \"is\", \"too\", \"short\"]\n",
    "result = \" \".join(a)\n",
    "print(result)"
   ]
  },
  {
   "cell_type": "code",
   "execution_count": 12,
   "metadata": {},
   "outputs": [
    {
     "name": "stdout",
     "output_type": "stream",
     "text": [
      "(1, 2, 3, 4)\n"
     ]
    }
   ],
   "source": [
    "# 08. 튜플 더하기\n",
    "a = (1, 2, 3)\n",
    "a = a + (4, )\n",
    "print(a)"
   ]
  },
  {
   "cell_type": "code",
   "execution_count": 17,
   "metadata": {},
   "outputs": [
    {
     "name": "stdout",
     "output_type": "stream",
     "text": [
      "{'name': 'python', ('a',): 'python', 250: 'python'}\n"
     ]
    }
   ],
   "source": [
    "# 09. 딕셔너리의 키\n",
    "\n",
    "# a = {}\n",
    "a = dict()\n",
    "a[\"name\"] = \"python\"\n",
    "a[(\"a\",)] = \"python\"\n",
    "# a[[1]] = \"python\"\n",
    "a[250] = \"python\"\n",
    "print(a)"
   ]
  },
  {
   "cell_type": "code",
   "execution_count": 18,
   "metadata": {},
   "outputs": [
    {
     "name": "stdout",
     "output_type": "stream",
     "text": [
      "{'A': 90, 'C': 70}\n",
      "80\n"
     ]
    }
   ],
   "source": [
    "# 10. 딕셔너리 값 추출하기\n",
    "a = {\"A\" : 90, \"B\" : 80, \"C\" : 70}\n",
    "result = a.pop(\"B\")\n",
    "print(a)\n",
    "print(result)"
   ]
  },
  {
   "cell_type": "code",
   "execution_count": 19,
   "metadata": {},
   "outputs": [
    {
     "name": "stdout",
     "output_type": "stream",
     "text": [
      "{1, 2, 3, 4, 5}\n"
     ]
    }
   ],
   "source": [
    "# 11. 리스트에서 중복 제거하기\n",
    "\n",
    "a = [1, 1, 1, 2, 2, 3, 3, 3, 4, 4, 5]\n",
    "aSet = set(a)\n",
    "b = list(aSet)\n",
    "print(aSet)"
   ]
  },
  {
   "cell_type": "code",
   "execution_count": 20,
   "metadata": {},
   "outputs": [
    {
     "name": "stdout",
     "output_type": "stream",
     "text": [
      "[1, 4, 3]\n"
     ]
    }
   ],
   "source": [
    "# 12. 파이썬 변수\n",
    "a = b = [1, 2, 3]\n",
    "a[1] = 4\n",
    "print(b)"
   ]
  }
 ],
 "metadata": {
  "kernelspec": {
   "display_name": "Python 3",
   "language": "python",
   "name": "python3"
  },
  "language_info": {
   "codemirror_mode": {
    "name": "ipython",
    "version": 3
   },
   "file_extension": ".py",
   "mimetype": "text/x-python",
   "name": "python",
   "nbconvert_exporter": "python",
   "pygments_lexer": "ipython3",
   "version": "3.12.4"
  }
 },
 "nbformat": 4,
 "nbformat_minor": 2
}
