{
 "cells": [
  {
   "cell_type": "markdown",
   "metadata": {},
   "source": [
    "### 숫자형은 어떻게 만들고 사용할까?\n",
    "* 정수, 실수, 8진수, 16진수"
   ]
  },
  {
   "cell_type": "code",
   "execution_count": null,
   "metadata": {},
   "outputs": [],
   "source": [
    "# 정수형 \n",
    "\n",
    "a = 123\n",
    "b = -178\n",
    "c = 0\n",
    "\n",
    "print(a)\n",
    "print(b)\n",
    "print(c)\n"
   ]
  },
  {
   "cell_type": "code",
   "execution_count": null,
   "metadata": {},
   "outputs": [],
   "source": [
    "print(type(a))\n",
    "print(type(111))\n",
    "print(type(\"111\"))"
   ]
  },
  {
   "cell_type": "code",
   "execution_count": null,
   "metadata": {},
   "outputs": [],
   "source": [
    "# 실수형\n",
    "\n",
    "a = 1.2\n",
    "b = -3.45\n",
    "\n",
    "print(a)\n",
    "print(b)\n",
    "\n",
    "print(type(a))\n",
    "print(type(b))"
   ]
  },
  {
   "cell_type": "code",
   "execution_count": null,
   "metadata": {},
   "outputs": [],
   "source": [
    "a = 4.24E10\n",
    "b = 4.24E-10\n",
    "\n",
    "print(a)\n",
    "print(b)"
   ]
  },
  {
   "cell_type": "code",
   "execution_count": null,
   "metadata": {},
   "outputs": [],
   "source": [
    "# 8진수, 16진수\n",
    "\n",
    "a = 0o177\n",
    "\n",
    "# 1\n",
    "b = 0o1\n",
    "\n",
    "#  8*1 + 1\n",
    "c = 0o11\n",
    "\n",
    "# 1 * (8 * 8) + 1 * (8) + 1\n",
    "d = 0o111\n",
    "\n",
    "#  1 * (8 * 8 * 8) + 1 * (8 * 8) + 1 * (8) + 1\n",
    "e = 0o1111\n",
    "print(a)\n",
    "print(b)\n",
    "print(c)\n",
    "print(d)"
   ]
  },
  {
   "cell_type": "code",
   "execution_count": null,
   "metadata": {},
   "outputs": [],
   "source": [
    "# 16진수\n",
    "\n",
    "#  3 * (16 * 16) + 15 * (16) + 15\n",
    "a = 0x8ff\n",
    "\n",
    "# 1\n",
    "b = 0x1\n",
    "\n",
    "# 1 * (16) + 1\n",
    "c = 0x11\n",
    "\n",
    "# 1 * (16) + 1 * (16) + 1\n",
    "d = 0x111\n",
    "\n",
    "# 1 * (16 * 16 * 16) + 1 * (16 * 16) + 1 * (16) + 1\n",
    "e = 0x1111\n",
    "\n",
    "print(a)\n",
    "print(b)\n",
    "print(c)\n",
    "print(d)\n",
    "print(e)"
   ]
  },
  {
   "cell_type": "code",
   "execution_count": null,
   "metadata": {},
   "outputs": [],
   "source": [
    "#  사칙연산\n",
    "\n",
    "a = 3\n",
    "b = 4\n",
    "\n",
    "print(a + b)\n",
    "print(a - b)\n",
    "print(a * b)\n",
    "print(a / b)"
   ]
  },
  {
   "cell_type": "code",
   "execution_count": null,
   "metadata": {},
   "outputs": [],
   "source": [
    "print(48 / 2 * (9 + 3))"
   ]
  },
  {
   "cell_type": "code",
   "execution_count": null,
   "metadata": {},
   "outputs": [],
   "source": [
    "# x의 y제곱을 나타내는 **연산자\n",
    "\n",
    "a = 3\n",
    "b = 4\n",
    "\n",
    "print(a ** b)\n",
    "\n",
    "# 2의 3승\n",
    "print(2 ** 3)\n",
    "\n",
    "# 4의 3승\n",
    "print(4 ** 3)"
   ]
  },
  {
   "cell_type": "code",
   "execution_count": null,
   "metadata": {},
   "outputs": [],
   "source": [
    "#  나머지를 리턴하는 %연산자\n",
    "\n",
    "a = 7\n",
    "b = 3\n",
    "\n",
    "print(a % b)\n",
    "print(5 % 2)"
   ]
  },
  {
   "cell_type": "code",
   "execution_count": null,
   "metadata": {},
   "outputs": [],
   "source": [
    "#  몫을 구하는 //연산자\n",
    "\n",
    "a = 7\n",
    "b = 3\n",
    "\n",
    "print(a // b)\n",
    "print(a / b)"
   ]
  },
  {
   "cell_type": "code",
   "execution_count": null,
   "metadata": {},
   "outputs": [],
   "source": [
    "a = \"123\"\n",
    "b = 123\n",
    "c = int(a)\n",
    "\n",
    "print(type(a))\n",
    "print(type(b))\n",
    "\n",
    "print(a)\n",
    "print(c)\n",
    "print(type(c))"
   ]
  },
  {
   "cell_type": "code",
   "execution_count": null,
   "metadata": {},
   "outputs": [],
   "source": [
    "a = input(\"숫자를 입력해 주세요\")\n",
    "print(int(a) + 10)"
   ]
  }
 ],
 "metadata": {
  "kernelspec": {
   "display_name": "Python 3",
   "language": "python",
   "name": "python3"
  },
  "language_info": {
   "codemirror_mode": {
    "name": "ipython",
    "version": 3
   },
   "file_extension": ".py",
   "mimetype": "text/x-python",
   "name": "python",
   "nbconvert_exporter": "python",
   "pygments_lexer": "ipython3",
   "version": "3.12.4"
  }
 },
 "nbformat": 4,
 "nbformat_minor": 2
}
