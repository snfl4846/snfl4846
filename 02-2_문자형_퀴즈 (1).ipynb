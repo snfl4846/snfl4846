{
 "cells": [
  {
   "cell_type": "markdown",
   "metadata": {},
   "source": [
    "1. 사용자로부터 문자를 입력받아 문자의 길이를 출력하는 프로그램을 만드세요."
   ]
  },
  {
   "cell_type": "code",
   "execution_count": 2,
   "metadata": {},
   "outputs": [
    {
     "name": "stdout",
     "output_type": "stream",
     "text": [
      "5\n"
     ]
    }
   ],
   "source": [
    "a = input(\"문자를 입력해 주세요: \")\n",
    "print(len(a))"
   ]
  },
  {
   "cell_type": "markdown",
   "metadata": {},
   "source": [
    "2. 사용자로부터 문자를 입력받아 첫 글자와 마지막 글자를 출력하는 프로그램을 만드세요. "
   ]
  },
  {
   "cell_type": "code",
   "execution_count": 3,
   "metadata": {},
   "outputs": [
    {
     "name": "stdout",
     "output_type": "stream",
     "text": [
      "첫 번째 입력한 문자는: 한\n",
      "마지막 입력한 문자는: 원\n"
     ]
    }
   ],
   "source": [
    "a = input(\"문자를 입력해 주세요: \")\n",
    "print(f\"첫 번째 입력한 문자는: {a[0]}\\n마지막 입력한 문자는: {a[-1]}\")"
   ]
  },
  {
   "cell_type": "markdown",
   "metadata": {},
   "source": [
    "3. 사용자가 입력한 반지름을 사용하여 원의 면적을 계사하는 프로그램을 만드세요(원의면적은: (3.14) * 반지름의 제곱)"
   ]
  },
  {
   "cell_type": "code",
   "execution_count": 5,
   "metadata": {},
   "outputs": [
    {
     "name": "stdout",
     "output_type": "stream",
     "text": [
      "반지름은 4이고, 윈의 면적은 50.24 입니다.\n"
     ]
    }
   ],
   "source": [
    "r = int(input(\"반지름 값을 입력해 주세요: \"))\n",
    "print(f\"반지름은 {r}이고, 윈의 면적은 {3.14 * (r ** 2)} 입니다.\")"
   ]
  },
  {
   "cell_type": "markdown",
   "metadata": {},
   "source": [
    "4. 3번의 숫자를 입력을 받아 평균을 구하는 프로그램을 만드세요."
   ]
  },
  {
   "cell_type": "code",
   "execution_count": 7,
   "metadata": {},
   "outputs": [
    {
     "name": "stdout",
     "output_type": "stream",
     "text": [
      "첫 번째 입력값은 10, 두 번째 입력값은 20, 세 번째 입력값은 30\n",
      "평균은 20.0 입니다.\n"
     ]
    }
   ],
   "source": [
    "a = int(input(\"첫 번째 숫자를 입력해 주세요: \"))\n",
    "b = int(input(\"두 번째 숫자를 입력해 주세요: \"))\n",
    "c = int(input(\"세 번째 숫자를 입력해 주세요: \"))\n",
    "\n",
    "print(f'첫 번째 입력값은 {a}, 두 번째 입력값은 {b}, 세 번째 입력값은 {c}\\n평균은 {(a + b + c)/3} 입니다.')"
   ]
  },
  {
   "cell_type": "markdown",
   "metadata": {},
   "source": [
    "5. 아래 문자열에서 문자열 슬라이싱을 사용하여 '금메달'을 추출해 주세요\n",
    "* a = \"“잠자는 경기장의 공주” 낮잠 자고 일어나 금메달 딴 女선수 화제\""
   ]
  },
  {
   "cell_type": "code",
   "execution_count": 9,
   "metadata": {},
   "outputs": [
    {
     "name": "stdout",
     "output_type": "stream",
     "text": [
      "금메달\n"
     ]
    }
   ],
   "source": [
    "a = \"“잠자는 경기장의 공주” 낮잠 자고 일어나 금메달 딴 女선수 화제\"\n",
    "print(a[24:27])"
   ]
  },
  {
   "cell_type": "markdown",
   "metadata": {},
   "source": [
    "6. 5번 문제에서의 문자열 중 '공주'를 '왕자'로 바꿔주세요"
   ]
  },
  {
   "cell_type": "code",
   "execution_count": 10,
   "metadata": {},
   "outputs": [
    {
     "name": "stdout",
     "output_type": "stream",
     "text": [
      "“잠자는 경기장의 왕자” 낮잠 자고 일어나 금메달 딴 女선수 화제\n"
     ]
    }
   ],
   "source": [
    "print(a.replace(\"공주\", \"왕자\"))"
   ]
  },
  {
   "cell_type": "markdown",
   "metadata": {},
   "source": [
    "7. a = \"himzei@gmail.com\" 에서 find() 함수를 이용하여 'himzei'만 추출하세요 "
   ]
  },
  {
   "cell_type": "code",
   "execution_count": 13,
   "metadata": {},
   "outputs": [
    {
     "name": "stdout",
     "output_type": "stream",
     "text": [
      "himzei\n"
     ]
    }
   ],
   "source": [
    "a = \"himzei@gmail.com\" \n",
    "\n",
    "# num = a.find(\"@\")\n",
    "print(a[0:a.find(\"@\")])"
   ]
  },
  {
   "cell_type": "markdown",
   "metadata": {},
   "source": [
    "8. 이름, 취미, MBTI를 입력받아 변수에 담은 뒤, 출력하세요(3가지 문자열 출력방법 활용 ex)%s, format(), f\"\")"
   ]
  },
  {
   "cell_type": "code",
   "execution_count": 16,
   "metadata": {},
   "outputs": [
    {
     "name": "stdout",
     "output_type": "stream",
     "text": [
      "이름: 조현일, 취미: 달리기, MBTI: isfp\n",
      "이름: 조현일, 취미: 달리기, MBTI: isfp\n",
      "이름: 조현일, 취미: 달리기, MBTI: isfp\n"
     ]
    }
   ],
   "source": [
    "name = input(\"이름을 입력: \")\n",
    "hobby = input(\"취미을 입력: \")\n",
    "mbti = input(\"MBTI을 입력: \")\n",
    "\n",
    "print(\"이름: %s, 취미: %s, MBTI: %s\" % (name, hobby, mbti))\n",
    "print(\"이름: {0}, 취미: {1}, MBTI: {2}\".format(name, hobby, mbti))\n",
    "print(f\"이름: {name}, 취미: {hobby}, MBTI: {mbti}\")"
   ]
  },
  {
   "cell_type": "markdown",
   "metadata": {},
   "source": []
  },
  {
   "cell_type": "code",
   "execution_count": null,
   "metadata": {},
   "outputs": [],
   "source": []
  }
 ],
 "metadata": {
  "kernelspec": {
   "display_name": "Python 3",
   "language": "python",
   "name": "python3"
  },
  "language_info": {
   "codemirror_mode": {
    "name": "ipython",
    "version": 3
   },
   "file_extension": ".py",
   "mimetype": "text/x-python",
   "name": "python",
   "nbconvert_exporter": "python",
   "pygments_lexer": "ipython3",
   "version": "3.12.4"
  }
 },
 "nbformat": 4,
 "nbformat_minor": 2
}
