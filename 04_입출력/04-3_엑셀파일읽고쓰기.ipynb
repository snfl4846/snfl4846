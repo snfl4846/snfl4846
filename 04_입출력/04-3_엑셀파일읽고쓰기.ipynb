{
 "cells": [
  {
   "cell_type": "markdown",
   "metadata": {},
   "source": [
    "### 엑셀 파일 다루기\n",
    "* https://wikidocs.net/213832 \n",
    "* 설치 pip install openpyxl"
   ]
  },
  {
   "cell_type": "code",
   "execution_count": null,
   "metadata": {},
   "outputs": [],
   "source": [
    "# openpyxl 라이브러리 설치\n",
    "pip install openpyxl"
   ]
  },
  {
   "cell_type": "code",
   "execution_count": null,
   "metadata": {},
   "outputs": [],
   "source": [
    "# import csv\n",
    "# import openpyxl\n",
    "from openpyxl import workbook\n",
    "\n",
    "wb = workbook()\n",
    "\n",
    "ws = wb.active\n",
    "\n",
    "ws.title = \"수강생_정보\"\n",
    "\n",
    "ws['A1'] = \"철수\"\n",
    "ws['B1'] = \"영희\"\n",
    "ws['C1'] = \"취미\"\n",
    "\n",
    "wb.save = [\"./수강생리스트.xlsx\"]\n",
    "\n",
    "wb.active"
   ]
  },
  {
   "cell_type": "code",
   "execution_count": null,
   "metadata": {},
   "outputs": [],
   "source": [
    "from openpyxl import workbook\n",
    "\n",
    "wb = workbook()\n",
    "ws = wb.active \n",
    "\n",
    "ws.title = \"수강생정보\"\n",
    "\n",
    "title = [\"번호\", \"이름\", \"과목\"]\n",
    "\n",
    "ws.append(title)\n",
    "\n",
    "data = [1, \"홍길동\", \"수학\"]\n",
    "\n",
    "ws.append(data)\n",
    "\n",
    "wb.save = [\"./수강생리스트.xlsx\"]\n",
    "wb.close()"
   ]
  },
  {
   "cell_type": "code",
   "execution_count": null,
   "metadata": {},
   "outputs": [],
   "source": [
    "# 엑셀 데이터 읽기\n",
    "\n",
    "from openpyxl import workbook, load_workbook\n",
    "\n",
    "wb = load_workbook(filename=\"./서울.xlsx\")\n",
    "ws = wb.active\n",
    "# print(ws.rows)\n",
    "# print(list(ws.rows))\n",
    "# ws = wb[\"1월\"]\n",
    "rows = list(ws.rows)\n",
    "for row in rows:\n",
    "    # person = row[2].value\n",
    "    # company = row[4].value\n",
    "    # print(company)\n",
    "    row_values = [cell.value for cell in row]\n",
    "    print(row_values[2])\n",
    "    # print(row[1].value)"
   ]
  }
 ],
 "metadata": {
  "kernelspec": {
   "display_name": "Python 3",
   "language": "python",
   "name": "python3"
  },
  "language_info": {
   "codemirror_mode": {
    "name": "ipython",
    "version": 3
   },
   "file_extension": ".py",
   "mimetype": "text/x-python",
   "name": "python",
   "nbconvert_exporter": "python",
   "pygments_lexer": "ipython3",
   "version": "3.12.4"
  }
 },
 "nbformat": 4,
 "nbformat_minor": 2
}
