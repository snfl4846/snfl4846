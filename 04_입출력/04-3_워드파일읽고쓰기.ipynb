{
 "cells": [
  {
   "cell_type": "markdown",
   "metadata": {},
   "source": [
    "### 워드파일 다루기\n",
    "* http://wikidocs.net/216132 \n",
    "* 설치: pip install python-docx"
   ]
  },
  {
   "cell_type": "code",
   "execution_count": 3,
   "metadata": {},
   "outputs": [],
   "source": [
    "# 엑셀파일 쓰기\n",
    "# from openpyxl import workbook\n",
    " \n",
    "from docx import Document \n",
    "\n",
    "doc = Document()\n",
    "\n",
    "doc.save(\"./example.docx\")"
   ]
  },
  {
   "cell_type": "code",
   "execution_count": null,
   "metadata": {},
   "outputs": [],
   "source": [
    "from docx import Document \n",
    "from docx.enum.text import WD_ALIGN_PARAGRAPH\n",
    "\n",
    "doc = Document()\n",
    "\n",
    "title = doc.add_heading(\"제목을 이곳에 작성합니다.\", level=0)\n",
    "title.alignment = WD_ALIGN_PARAGRAPH.CENTER\n",
    "\n",
    "doc.add_heading(\"소제목을 작성합니다.\", level=2)\n",
    "\n",
    "# 테이블 만들기\n",
    "table = doc.add_table(rows=3, cols=3)\n",
    "table.style = \"Table Grid\"\n",
    "\n",
    "hdr_cells = table.rows[0].cells\n",
    "hdr_cells[0].text = \"헤더 1\"\n",
    "hdr_cells[1].text = \"헤더 2\"\n",
    "hdr_cells[2].text = \"헤더 3\"\n",
    "\n",
    "for i in range(1, 3):\n",
    "    row_cells = table.rows[i].cells\n",
    "    row_cells[0].text = f\"{i}행 1열\"\n",
    "    row_cells[1].text = f\"{i}행 2열\"\n",
    "    row_cells[2].text = f\"{i}행 3열\"\n",
    "\n",
    "doc.save(\"./example.docx\")"
   ]
  },
  {
   "cell_type": "code",
   "execution_count": null,
   "metadata": {},
   "outputs": [],
   "source": []
  }
 ],
 "metadata": {
  "kernelspec": {
   "display_name": "Python 3",
   "language": "python",
   "name": "python3"
  },
  "language_info": {
   "codemirror_mode": {
    "name": "ipython",
    "version": 3
   },
   "file_extension": ".py",
   "mimetype": "text/x-python",
   "name": "python",
   "nbconvert_exporter": "python",
   "pygments_lexer": "ipython3",
   "version": "3.12.4"
  }
 },
 "nbformat": 4,
 "nbformat_minor": 2
}
