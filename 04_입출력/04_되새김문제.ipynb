{
 "cells": [
  {
   "cell_type": "code",
   "execution_count": 32,
   "metadata": {},
   "outputs": [
    {
     "name": "stdout",
     "output_type": "stream",
     "text": [
      "True\n"
     ]
    }
   ],
   "source": [
    "# 01. 홀수, 짝수 판별하기\n",
    "\n",
    "def is_odd(number):\n",
    "    if number % 2 == 1:\n",
    "        return True\n",
    "    else:\n",
    "        return False\n",
    "    \n",
    "result = is_odd(11)\n",
    "print(result)"
   ]
  },
  {
   "cell_type": "code",
   "execution_count": 37,
   "metadata": {},
   "outputs": [
    {
     "data": {
      "text/plain": [
       "3.0"
      ]
     },
     "execution_count": 37,
     "metadata": {},
     "output_type": "execute_result"
    }
   ],
   "source": [
    "# 02. 모든 입력의 평균값을 구하기\n",
    "\n",
    "def avg_numbers(*args):\n",
    "    result = 0\n",
    "    for i in args:\n",
    "        result += i\n",
    "    return result / len(args)\n",
    "\n",
    "avg_numbers(1, 2)\n",
    "avg_numbers(1, 2, 3, 4, 5)"
   ]
  },
  {
   "cell_type": "code",
   "execution_count": 38,
   "metadata": {},
   "outputs": [
    {
     "name": "stdout",
     "output_type": "stream",
     "text": [
      "두 수의 합은 9입니다.\n"
     ]
    }
   ],
   "source": [
    "# 03. 프로그램 오류 수정하기1\n",
    "\n",
    "input1 = int(input(\"첫 번째 숫자를 입력하세요: \"))\n",
    "input2 = int(input(\"두 번째 숫자를 입력하세요: \"))\n",
    "\n",
    "total = (input1 + input2)\n",
    "print(f\"두 수의 합은 {total}입니다.\")"
   ]
  },
  {
   "cell_type": "code",
   "execution_count": 17,
   "metadata": {},
   "outputs": [
    {
     "name": "stdout",
     "output_type": "stream",
     "text": [
      "youneedpython\n",
      "youneedpython\n",
      "you need python\n",
      "youneedpython\n"
     ]
    }
   ],
   "source": [
    "# 04. 출력결과가 다른 것은?\n",
    "\n",
    "#1번\n",
    "print(\"you\" \"need\" \"python\")\n",
    "#2번\n",
    "print(\"you\" + \"need\" + \"python\")\n",
    "#3번\n",
    "print(\"you\", \"need\", \"python\")\n",
    "#4번\n",
    "print(\"\".join([\"you\", \"need\", \"python\"]))"
   ]
  },
  {
   "cell_type": "code",
   "execution_count": 40,
   "metadata": {},
   "outputs": [
    {
     "name": "stdout",
     "output_type": "stream",
     "text": [
      "Life is too short\n"
     ]
    }
   ],
   "source": [
    "# 05. 프로그램 오류 수정하기2\n",
    "\n",
    "f1 = open(\"test.txt\", \"w\")\n",
    "f1.write(\"Life is too short\")\n",
    "f1.close()\n",
    "\n",
    "f2 = open(\"test.txt\", \"r\")\n",
    "print(f2.read())\n",
    "f2.close()"
   ]
  },
  {
   "cell_type": "code",
   "execution_count": 43,
   "metadata": {},
   "outputs": [],
   "source": [
    "# 06. 사용자 입력 저장하기\n",
    "\n",
    "user_input = input(\"저장할 내용을 입력하세요: \")\n",
    "f = open('test.txt', \"a\")\n",
    "f.write(user_input)\n",
    "f.write(\"\\n\")\n",
    "\n",
    "f.close()"
   ]
  },
  {
   "cell_type": "code",
   "execution_count": 45,
   "metadata": {},
   "outputs": [],
   "source": [
    "# 07. 파일의 문자열 바꾸기\n",
    "\n",
    "f = open('test.txt', 'r')\n",
    "body = f.read()\n",
    "# print(type(body))\n",
    "f.close()\n",
    "\n",
    "body = body.replace(\"java\", \"python\")\n",
    "f = open('test.txt', 'w')\n",
    "f.write(body)\n",
    "f.close()\n"
   ]
  },
  {
   "cell_type": "code",
   "execution_count": null,
   "metadata": {},
   "outputs": [],
   "source": [
    "import sys\n",
    "\n",
    "args = sys.argv[1:]\n",
    "print(args)\n",
    "\n",
    "\n",
    "result = 0\n",
    "for i in args:\n",
    "    #result += int(i)\n",
    "    result = result + int(i)\n",
    "print(result)"
   ]
  },
  {
   "cell_type": "code",
   "execution_count": null,
   "metadata": {},
   "outputs": [],
   "source": []
  }
 ],
 "metadata": {
  "kernelspec": {
   "display_name": "Python 3",
   "language": "python",
   "name": "python3"
  },
  "language_info": {
   "codemirror_mode": {
    "name": "ipython",
    "version": 3
   },
   "file_extension": ".py",
   "mimetype": "text/x-python",
   "name": "python",
   "nbconvert_exporter": "python",
   "pygments_lexer": "ipython3",
   "version": "3.12.4"
  }
 },
 "nbformat": 4,
 "nbformat_minor": 2
}
