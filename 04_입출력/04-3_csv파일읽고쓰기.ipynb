{
 "cells": [
  {
   "cell_type": "markdown",
   "metadata": {},
   "source": [
    "### CSV 파일 다루기\n",
    "\n",
    "* https://wikidocs.net/215864 "
   ]
  },
  {
   "cell_type": "code",
   "execution_count": null,
   "metadata": {},
   "outputs": [],
   "source": [
    "import csv\n",
    "\n",
    "with open(\"./example.csv\", \"w\") as file:\n",
    "\n",
    "    csv_writer = csv.writer(file)\n",
    "    print(type(csv_writer))\n",
    "\n",
    "    csv_writer.writerow([\"이름\", \"나이\", \"직업\"])\n",
    "\n",
    "    for i in range(10):\n",
    "        csv_writerow([f\"{i}\", \"홍길동\", \"30\", \"학생\"])\n",
    "    \n",
    "    \n",
    "    csv_writer.writerow([\"철수\", \"20\", \"교사\"])\n",
    "    csv_writer.writerow([\"영희\", \"25\", \"경찰\"])"
   ]
  },
  {
   "cell_type": "code",
   "execution_count": null,
   "metadata": {},
   "outputs": [],
   "source": [
    "# csv 파일 읽기\n",
    "\n",
    "import csv\n",
    "\n",
    "with open(\"./FY2019,csv\", \"r\") as file:\n",
    "\n",
    "    csv_reader = csv.reader(file)\n",
    "\n",
    "    for row in csv_reader:\n",
    "        # print(row[1], row[8])\n",
    "        print(row[0:4])"
   ]
  },
  {
   "cell_type": "code",
   "execution_count": null,
   "metadata": {},
   "outputs": [],
   "source": []
  }
 ],
 "metadata": {
  "kernelspec": {
   "display_name": "Python 3",
   "language": "python",
   "name": "python3"
  },
  "language_info": {
   "codemirror_mode": {
    "name": "ipython",
    "version": 3
   },
   "file_extension": ".py",
   "mimetype": "text/x-python",
   "name": "python",
   "nbconvert_exporter": "python",
   "pygments_lexer": "ipython3",
   "version": "3.12.4"
  }
 },
 "nbformat": 4,
 "nbformat_minor": 2
}
