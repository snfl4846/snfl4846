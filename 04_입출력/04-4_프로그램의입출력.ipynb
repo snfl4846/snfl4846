{
 "cells": [
  {
   "cell_type": "code",
   "execution_count": 1,
   "metadata": {},
   "outputs": [],
   "source": [
    "# sys 모듈 사용하기"
   ]
  },
  {
   "cell_type": "code",
   "execution_count": 2,
   "metadata": {},
   "outputs": [
    {
     "name": "stdout",
     "output_type": "stream",
     "text": [
      "--f=\"c:\\Users\\as4761285 001\\AppData\\Roaming\\jupyter\\runtime\\kernel-v2-84528wWb3ems410u.json\"\n"
     ]
    }
   ],
   "source": [
    "import sys\n",
    "\n",
    "args = sys.argv[1:]\n",
    "for i in args:\n",
    "    print(i)"
   ]
  },
  {
   "cell_type": "code",
   "execution_count": 3,
   "metadata": {},
   "outputs": [],
   "source": [
    "# 프롬포트 변경\n",
    "\n",
    "import sys\n",
    "sys.ps1 = \"안녕: \""
   ]
  },
  {
   "cell_type": "code",
   "execution_count": 4,
   "metadata": {},
   "outputs": [
    {
     "data": {
      "text/plain": [
       "'c:\\\\Users\\\\as4761285 001\\\\Desktop\\\\민은진\\\\python\\\\04_입출력'"
      ]
     },
     "execution_count": 4,
     "metadata": {},
     "output_type": "execute_result"
    }
   ],
   "source": [
    "# os 모듈\n",
    "\n",
    "import os\n",
    "\n",
    "os.getcwd()"
   ]
  },
  {
   "cell_type": "code",
   "execution_count": 7,
   "metadata": {},
   "outputs": [
    {
     "data": {
      "text/plain": [
       "['04-1_함수.ipynb',\n",
       " '04-3_csv파일읽고쓰기.ipynb',\n",
       " '04-3_엑셀파일읽고쓰기.ipynb',\n",
       " '04-3_워드파일읽고쓰기.ipynb',\n",
       " '04-3_파일읽고쓰기.ipynb',\n",
       " '04-4_프로그램의입출력.ipynb',\n",
       " 'example.csv',\n",
       " 'example.docx',\n",
       " 'foo.txt',\n",
       " 'FY2019.csv',\n",
       " 'sys1.py',\n",
       " '새파일.txt',\n",
       " '서울.xlsx',\n",
       " '폴더']"
      ]
     },
     "execution_count": 7,
     "metadata": {},
     "output_type": "execute_result"
    }
   ],
   "source": [
    "os.listdir()"
   ]
  },
  {
   "cell_type": "code",
   "execution_count": 9,
   "metadata": {},
   "outputs": [
    {
     "data": {
      "text/plain": [
       "['04-1_함수.ipynb',\n",
       " '04-3_csv파일읽고쓰기.ipynb',\n",
       " '04-3_엑셀파일읽고쓰기.ipynb',\n",
       " '04-3_워드파일읽고쓰기.ipynb',\n",
       " '04-3_파일읽고쓰기.ipynb',\n",
       " '04-4_프로그램의입출력.ipynb',\n",
       " 'example.csv',\n",
       " 'example.docx',\n",
       " 'foo.txt',\n",
       " 'FY2019.csv',\n",
       " 'sys1.py',\n",
       " '새파일.txt',\n",
       " '서울.xlsx',\n",
       " '폴더']"
      ]
     },
     "execution_count": 9,
     "metadata": {},
     "output_type": "execute_result"
    }
   ],
   "source": [
    "os.path.isdir(\"./폴더\")\n",
    "os.path.isdir(\"./sys1.py\")\n",
    "\n",
    "os.listdir()"
   ]
  },
  {
   "cell_type": "code",
   "execution_count": 13,
   "metadata": {},
   "outputs": [
    {
     "name": "stdout",
     "output_type": "stream",
     "text": [
      "폴더\n"
     ]
    }
   ],
   "source": [
    "data = os.listdir()\n",
    "# print(data)\n",
    "for item in data:\n",
    "    if os.path.isdir(item):\n",
    "        print(item)"
   ]
  },
  {
   "cell_type": "code",
   "execution_count": 15,
   "metadata": {},
   "outputs": [],
   "source": [
    "import os\n",
    "\n",
    "# 폴더를 만들 때\n",
    "os.makedirs(\"./영남대\")"
   ]
  },
  {
   "cell_type": "code",
   "execution_count": 16,
   "metadata": {},
   "outputs": [
    {
     "data": {
      "text/plain": [
       "'./영남대\\\\그림.jpg'"
      ]
     },
     "execution_count": 16,
     "metadata": {},
     "output_type": "execute_result"
    }
   ],
   "source": [
    "import os\n",
    " \n",
    "os.path.join(\"./영남대\", \"그림.jpg\")"
   ]
  }
 ],
 "metadata": {
  "kernelspec": {
   "display_name": "Python 3",
   "language": "python",
   "name": "python3"
  },
  "language_info": {
   "codemirror_mode": {
    "name": "ipython",
    "version": 3
   },
   "file_extension": ".py",
   "mimetype": "text/x-python",
   "name": "python",
   "nbconvert_exporter": "python",
   "pygments_lexer": "ipython3",
   "version": "3.12.4"
  }
 },
 "nbformat": 4,
 "nbformat_minor": 2
}
