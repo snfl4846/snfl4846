{
 "cells": [
  {
   "cell_type": "markdown",
   "metadata": {},
   "source": [
    "### 문자열은 어떻게 사용할까?\n",
    "* \"문자열\""
   ]
  },
  {
   "cell_type": "code",
   "execution_count": 2,
   "metadata": {},
   "outputs": [
    {
     "name": "stdout",
     "output_type": "stream",
     "text": [
      "Hello world\n",
      "<class 'str'>\n"
     ]
    }
   ],
   "source": [
    "#  큰따옴표\n",
    "a = \"Hello world\"\n",
    "print(a)\n",
    "print(type(a))"
   ]
  },
  {
   "cell_type": "code",
   "execution_count": 3,
   "metadata": {},
   "outputs": [
    {
     "name": "stdout",
     "output_type": "stream",
     "text": [
      "Python is fun\n",
      "<class 'str'>\n"
     ]
    }
   ],
   "source": [
    "#  작은따옴표\n",
    "b = 'Python is fun'\n",
    "print(b)\n",
    "print(type(b))"
   ]
  },
  {
   "cell_type": "code",
   "execution_count": 5,
   "metadata": {},
   "outputs": [
    {
     "name": "stdout",
     "output_type": "stream",
     "text": [
      "Life is too short, You need python\n",
      "<class 'str'>\n"
     ]
    }
   ],
   "source": [
    "#  큰따옴표 3개\n",
    "c = \"\"\"Life is too short, You need python\"\"\"\n",
    "print(c)\n",
    "print(type(c))"
   ]
  },
  {
   "cell_type": "code",
   "execution_count": 7,
   "metadata": {},
   "outputs": [
    {
     "name": "stdout",
     "output_type": "stream",
     "text": [
      "Life is too short, You need python\n",
      "<class 'str'>\n"
     ]
    }
   ],
   "source": [
    "#  작은따옴표 3개\n",
    "d = '''Life is too short, You need python'''\n",
    "print(d)\n",
    "print(type(d))"
   ]
  },
  {
   "cell_type": "code",
   "execution_count": 8,
   "metadata": {},
   "outputs": [
    {
     "name": "stdout",
     "output_type": "stream",
     "text": [
      "Python's favorite food is perl\n"
     ]
    }
   ],
   "source": [
    "food = \"Python's favorite food is perl\"\n",
    "print(food)"
   ]
  },
  {
   "cell_type": "code",
   "execution_count": 10,
   "metadata": {},
   "outputs": [
    {
     "name": "stdout",
     "output_type": "stream",
     "text": [
      "\"Python is very easy.\" he says.\n"
     ]
    }
   ],
   "source": [
    "say = '\"Python is very easy.\" he says.'\n",
    "print(say)"
   ]
  },
  {
   "cell_type": "code",
   "execution_count": 12,
   "metadata": {},
   "outputs": [
    {
     "name": "stdout",
     "output_type": "stream",
     "text": [
      "Python's favorite food is perl\n",
      "\"Python is very easy.\" he says.\n"
     ]
    }
   ],
   "source": [
    "food = 'Python\\'s favorite food is perl'\n",
    "say = \"\\\"Python is very easy.\\\" he says.\"\n",
    "\n",
    "print(food)\n",
    "print(say)"
   ]
  },
  {
   "cell_type": "markdown",
   "metadata": {},
   "source": [
    "# 여러 줄 문자열 표현"
   ]
  },
  {
   "cell_type": "code",
   "execution_count": 14,
   "metadata": {},
   "outputs": [
    {
     "name": "stdout",
     "output_type": "stream",
     "text": [
      "Life is too short\n",
      "You need python\n"
     ]
    }
   ],
   "source": [
    "#  이스케이프 코드 \\n(줄바꿈 코드)\n",
    "\n",
    "multiline = \"Life is too short\\nYou need python\"\n",
    "print(multiline)"
   ]
  },
  {
   "cell_type": "code",
   "execution_count": 17,
   "metadata": {},
   "outputs": [
    {
     "name": "stdout",
     "output_type": "stream",
     "text": [
      " \n",
      "    \"Life\" is 'too' short\n",
      "    You need python\n",
      "\n"
     ]
    }
   ],
   "source": [
    "#  작은따옴표3개, 큰따옴표3개 활용\n",
    "\n",
    "multiline = ''' \n",
    "    \"Life\" is 'too' short\n",
    "    You need python\n",
    "'''\n",
    "\n",
    "print(multiline)"
   ]
  },
  {
   "cell_type": "markdown",
   "metadata": {},
   "source": [
    "### 문자열 연산"
   ]
  },
  {
   "cell_type": "code",
   "execution_count": 19,
   "metadata": {},
   "outputs": [
    {
     "name": "stdout",
     "output_type": "stream",
     "text": [
      "Python is fun!\n"
     ]
    }
   ],
   "source": [
    "#  문자열 더하기\n",
    "\n",
    "head = \"Python\"\n",
    "tail = \" is fun!\"\n",
    "\n",
    "print(head + tail)"
   ]
  },
  {
   "cell_type": "code",
   "execution_count": 23,
   "metadata": {},
   "outputs": [
    {
     "name": "stdout",
     "output_type": "stream",
     "text": [
      "python python python python python \n"
     ]
    }
   ],
   "source": [
    "#  문자열 곱하기\n",
    "\n",
    "a = \"python \"\n",
    "print(a * 5)\n"
   ]
  },
  {
   "cell_type": "code",
   "execution_count": 27,
   "metadata": {},
   "outputs": [
    {
     "name": "stdout",
     "output_type": "stream",
     "text": [
      "==================================================================\n",
      "================================================================================\n",
      "My Program\n",
      "================================================================================\n"
     ]
    }
   ],
   "source": [
    "print(\"==================================================================\")\n",
    "print(\"=\" * 80)\n",
    "print(\"My Program\")\n",
    "print(\"=\" * 80)"
   ]
  },
  {
   "cell_type": "code",
   "execution_count": 28,
   "metadata": {},
   "outputs": [
    {
     "data": {
      "text/plain": [
       "17"
      ]
     },
     "execution_count": 28,
     "metadata": {},
     "output_type": "execute_result"
    }
   ],
   "source": [
    "# 문자열 길이 구하기 len()\n",
    "\n",
    "a = \"Life is too short\"\n",
    "len(a)"
   ]
  },
  {
   "cell_type": "code",
   "execution_count": 30,
   "metadata": {},
   "outputs": [
    {
     "data": {
      "text/plain": [
       "7"
      ]
     },
     "execution_count": 30,
     "metadata": {},
     "output_type": "execute_result"
    }
   ],
   "source": [
    "b = \"Python \"\n",
    "len(b)"
   ]
  },
  {
   "cell_type": "markdown",
   "metadata": {},
   "source": [
    " ### 문자열 인덱싱과 슬라이싱"
   ]
  },
  {
   "cell_type": "code",
   "execution_count": 39,
   "metadata": {},
   "outputs": [
    {
     "name": "stdout",
     "output_type": "stream",
     "text": [
      "34\n",
      "L\n",
      "i\n",
      "n\n",
      "Life\n"
     ]
    }
   ],
   "source": [
    "a = \"Life is too short, You need python\"\n",
    "\n",
    "print(len(a))\n",
    "print(a[0])\n",
    "print(a[1])\n",
    "print(a[-1])\n",
    "print(a[0] + a[1] + a[2] +a[3])"
   ]
  },
  {
   "cell_type": "code",
   "execution_count": 43,
   "metadata": {},
   "outputs": [
    {
     "name": "stdout",
     "output_type": "stream",
     "text": [
      "Life\n",
      "Life is\n",
      "short\n"
     ]
    }
   ],
   "source": [
    "a = \"Life is too short, You need python\"\n",
    "\n",
    "print(a[0:4])\n",
    "print(a[0:7])\n",
    "print(a[12:17])"
   ]
  },
  {
   "cell_type": "code",
   "execution_count": 48,
   "metadata": {},
   "outputs": [
    {
     "name": "stdout",
     "output_type": "stream",
     "text": [
      "You need python\n",
      "You need python\n",
      "==================================================\n",
      "Life is too short\n",
      "Life is too short\n",
      "==================================================\n",
      "Life is too short, You need python\n",
      "Life is too short, You need python\n"
     ]
    }
   ],
   "source": [
    "a = \"Life is too short, You need python\"\n",
    "\n",
    "print(a[19:34])\n",
    "print(a[19:])\n",
    "print(\"=\" * 50)\n",
    "\n",
    "print(a[0:17])\n",
    "print(a[:17])\n",
    "print(\"=\" * 50)\n",
    "\n",
    "print(a)\n",
    "print(a[:])"
   ]
  },
  {
   "cell_type": "code",
   "execution_count": 50,
   "metadata": {},
   "outputs": [
    {
     "name": "stdout",
     "output_type": "stream",
     "text": [
      "2024\n",
      "0805\n",
      "Sunny\n"
     ]
    }
   ],
   "source": [
    "a = \"20240805Sunny\"\n",
    "\n",
    "year = a[:4]\n",
    "day = a[4:8]\n",
    "weather = a[8:]\n",
    "\n",
    "print(year)\n",
    "print(day)\n",
    "print(weather)"
   ]
  },
  {
   "cell_type": "markdown",
   "metadata": {},
   "source": [
    "### 퀴즈1\n",
    "\n",
    "* a = \"20240806Sunny\"\n",
    "\n",
    "* 출력값을 2024년 08월 06일, 오늘의 날씨는 Sunny 입니다."
   ]
  },
  {
   "cell_type": "code",
   "execution_count": 54,
   "metadata": {},
   "outputs": [
    {
     "name": "stdout",
     "output_type": "stream",
     "text": [
      "2024년 08월 06일, 오늘의 날씨는 Sunny 입니다.\n"
     ]
    }
   ],
   "source": [
    "a = \"20240806Sunny\"\n",
    "\n",
    "year = a[:4]\n",
    "month = a[4:6]\n",
    "day = a[6:8]\n",
    "weather = a[8:]\n",
    "\n",
    "print(f\"{year}년 {month}월 {day}일, 오늘의 날씨는 {weather} 입니다.\")"
   ]
  },
  {
   "cell_type": "code",
   "execution_count": null,
   "metadata": {},
   "outputs": [],
   "source": [
    "a = \"Pithon\"\n",
    "\n",
    "a[1] = \"y\"\n",
    "print(a)"
   ]
  },
  {
   "cell_type": "code",
   "execution_count": 59,
   "metadata": {},
   "outputs": [
    {
     "name": "stdout",
     "output_type": "stream",
     "text": [
      "Python\n"
     ]
    }
   ],
   "source": [
    "a = \"Pithon\"\n",
    "a = a[0] + \"y\" + a[2:]\n",
    "\n",
    "print(a)"
   ]
  },
  {
   "cell_type": "markdown",
   "metadata": {},
   "source": [
    "### 문자열 포매팅"
   ]
  },
  {
   "cell_type": "code",
   "execution_count": 7,
   "metadata": {},
   "outputs": [
    {
     "name": "stdout",
     "output_type": "stream",
     "text": [
      "I eat %d apples\n",
      "I eat 3 apples\n",
      "I eat 100 apples\n",
      "====================================================================================================\n",
      "I eat %s apples\n",
      "I eat five apples\n"
     ]
    }
   ],
   "source": [
    "# 숫자 바로 대입\n",
    "a = 100\n",
    "\n",
    "print(\"I eat %d apples\")\n",
    "print(\"I eat %d apples\" % 3)\n",
    "print(\"I eat %d apples\" % a)\n",
    "print(\"=\" * 100)\n",
    "\n",
    "# 문자열 바로 대입\n",
    "print(\"I eat %s apples\")\n",
    "print(\"I eat %s apples\" % \"five\")"
   ]
  },
  {
   "cell_type": "code",
   "execution_count": 17,
   "metadata": {},
   "outputs": [
    {
     "name": "stdout",
     "output_type": "stream",
     "text": [
      "I eat %d apples.\n",
      "I eat 3 apples.\n",
      "I eat 3 apples.\n",
      "I ate 10 apples. so I was sick for three days.\n"
     ]
    }
   ],
   "source": [
    "# 숫자 값을 나타내는 변수\n",
    "\n",
    "number = 3\n",
    "print(\"I eat %d apples.\")\n",
    "print(\"I eat %d apples.\" % number)\n",
    "\n",
    "print(\"I eat \" + str(number) + \" apples.\")\n",
    "\n",
    "# 2개 이상의 값 넣기\n",
    "number = 10\n",
    "day = \"three\" \n",
    "\n",
    "print(\"I ate %d apples. so I was sick for %s days.\" % (number, day))"
   ]
  },
  {
   "cell_type": "code",
   "execution_count": 21,
   "metadata": {},
   "outputs": [
    {
     "name": "stdout",
     "output_type": "stream",
     "text": [
      "정렬과 공백: hi\n",
      "정렬과 공백:         hi\n",
      "정렬과 공백: hi        |\n"
     ]
    }
   ],
   "source": [
    "# 정렬과 공백\n",
    "print(\"정렬과 공백: %s\" % \"hi\")\n",
    "print(\"정렬과 공백: %10s\" % \"hi\")\n",
    "print(\"정렬과 공백: %-10s|\" % \"hi\")"
   ]
  },
  {
   "cell_type": "code",
   "execution_count": 24,
   "metadata": {},
   "outputs": [
    {
     "name": "stdout",
     "output_type": "stream",
     "text": [
      "소수점 표현: 3.141259\n",
      "소수점 표현: 3.1413\n",
      "소수점 표현:                 3.14\n"
     ]
    }
   ],
   "source": [
    "# 소수점 표현하기\n",
    "a = 3.141259\n",
    "print(\"소수점 표현: %f\" % a)\n",
    "print(\"소수점 표현: %.4f\" % a)\n",
    "print(\"소수점 표현: %20.2f\" % a)"
   ]
  },
  {
   "cell_type": "markdown",
   "metadata": {},
   "source": [
    "### Format 함수를 사용한 포매팅"
   ]
  },
  {
   "cell_type": "code",
   "execution_count": 32,
   "metadata": {},
   "outputs": [
    {
     "name": "stdout",
     "output_type": "stream",
     "text": [
      "I eat 3 apples\n",
      "I eat 3 apples\n",
      "I eat five apples\n"
     ]
    },
    {
     "ename": "NameError",
     "evalue": "name 'five' is not defined",
     "output_type": "error",
     "traceback": [
      "\u001b[1;31m---------------------------------------------------------------------------\u001b[0m",
      "\u001b[1;31mNameError\u001b[0m                                 Traceback (most recent call last)",
      "Cell \u001b[1;32mIn[32], line 7\u001b[0m\n\u001b[0;32m      5\u001b[0m \u001b[38;5;66;03m# 문자열 바로 대입하기\u001b[39;00m\n\u001b[0;32m      6\u001b[0m \u001b[38;5;28mprint\u001b[39m(\u001b[38;5;124m\"\u001b[39m\u001b[38;5;124mI eat \u001b[39m\u001b[38;5;132;01m%s\u001b[39;00m\u001b[38;5;124m apples\u001b[39m\u001b[38;5;124m\"\u001b[39m \u001b[38;5;241m%\u001b[39m \u001b[38;5;124m\"\u001b[39m\u001b[38;5;124mfive\u001b[39m\u001b[38;5;124m\"\u001b[39m)\n\u001b[1;32m----> 7\u001b[0m \u001b[38;5;28mprint\u001b[39m(\u001b[38;5;124m\"\u001b[39m\u001b[38;5;124mI eat \u001b[39m\u001b[38;5;132;01m{0}\u001b[39;00m\u001b[38;5;124m apples\u001b[39m\u001b[38;5;124m\"\u001b[39m \u001b[38;5;241m.\u001b[39mformat(\u001b[43mfive\u001b[49m))\n",
      "\u001b[1;31mNameError\u001b[0m: name 'five' is not defined"
     ]
    }
   ],
   "source": [
    "# 숫자 바로 대입하기\n",
    "print(\"I eat %d apples\" % 3)\n",
    "print(\"I eat {0} apples\". format(3))\n",
    "\n",
    "# 문자열 바로 대입하기\n",
    "print(\"I eat %s apples\" % \"five\")\n",
    "print(\"I eat {0} apples\" .format(five))"
   ]
  },
  {
   "cell_type": "code",
   "execution_count": 38,
   "metadata": {},
   "outputs": [
    {
     "name": "stdout",
     "output_type": "stream",
     "text": [
      "I ate {0} apples, so I was sick for {1} days.\n",
      "I ate 10 apples, so I was sick for three days.\n",
      "I ate {number} apples, so I was sick for {day} days.\n",
      "I ate 10 apples, so I was sick for 3 days.\n",
      "I ate 10 apples, so I was sick for 3 days.\n"
     ]
    }
   ],
   "source": [
    "number = 10\n",
    "day = \"three\"\n",
    "\n",
    "print(\"I ate {0} apples, so I was sick for {1} days.\")\n",
    "print(\"I ate {0} apples, so I was sick for {1} days.\".format (number, day))\n",
    "\n",
    "# 이름으로 넣기\n",
    "print(\"I ate {number} apples, so I was sick for {day} days.\")\n",
    "print(\"I ate {number} apples, so I was sick for {day} days.\".format(number=10, day=3))\n",
    "\n",
    "# 인덱스와 혼용으로 사용\n",
    "print(\"I ate {0} apples, so I was sick for {day} days.\".format(number, day=3))\n"
   ]
  },
  {
   "cell_type": "code",
   "execution_count": 43,
   "metadata": {},
   "outputs": [
    {
     "name": "stdout",
     "output_type": "stream",
     "text": [
      "정렬: hi|\n",
      "정렬: hi        |\n",
      "정렬:         hi|\n",
      "정렬:     hi    |\n"
     ]
    }
   ],
   "source": [
    "# 왼쪽 정렬\n",
    "a = \"hi\"\n",
    "print(\"정렬: {0}|\".format(a))\n",
    "print(\"정렬: {0:<10}|\".format(a))\n",
    "\n",
    "# 오른쪽 정렬\n",
    "print(\"정렬: {0:>10}|\".format(a))\n",
    "\n",
    "# 가운데 정렬\n",
    "print(\"정렬: {0:^10}|\".format(a))\n"
   ]
  },
  {
   "cell_type": "code",
   "execution_count": 48,
   "metadata": {},
   "outputs": [
    {
     "name": "stdout",
     "output_type": "stream",
     "text": [
      "공백 hi|\n",
      "공백     hi    |\n",
      "공백 ****hi****|\n"
     ]
    }
   ],
   "source": [
    "# 공백 채우기\n",
    "a = \"hi\"\n",
    "print(\"공백 {0}|\".format(a))\n",
    "print(\"공백 {0:^10}|\".format(a))\n",
    "print(\"공백 {0:*^10}|\".format(a))"
   ]
  },
  {
   "cell_type": "code",
   "execution_count": 52,
   "metadata": {},
   "outputs": [
    {
     "name": "stdout",
     "output_type": "stream",
     "text": [
      "소수점표현: \n",
      "소수점표현: 3.141596\n",
      "소수점표현: 3.14\n"
     ]
    }
   ],
   "source": [
    "# 소수점 표현\n",
    "y = 3.141596\n",
    "\n",
    "print(\"소수점표현: \")\n",
    "print(\"소수점표현: {0}\".format(y))\n",
    "print(\"소수점표현: {0:.2f}\".format(y))"
   ]
  },
  {
   "cell_type": "markdown",
   "metadata": {},
   "source": [
    "### f문자열 포매팅"
   ]
  },
  {
   "cell_type": "code",
   "execution_count": 56,
   "metadata": {},
   "outputs": [
    {
     "name": "stdout",
     "output_type": "stream",
     "text": [
      "나의 이름은 홍길동 입니다. 나이는 30 입니다.\n",
      "나의 이름은 홍길동 입니다. 나이는 30 입니다.\n",
      "나의 이름은 홍길동 입니다. 나이는 30 입니다.\n"
     ]
    }
   ],
   "source": [
    "name = \"홍길동\"\n",
    "age = 30\n",
    "\n",
    "# 1\n",
    "print(\"나의 이름은 %s 입니다. 나이는 %d 입니다.\" % (name, age))\n",
    "\n",
    "# 2\n",
    "print(\"나의 이름은 {0} 입니다. 나이는 {1} 입니다.\".format (name, age))\n",
    "\n",
    "# 3*\n",
    "print(f\"나의 이름은 {name} 입니다. 나이는 {age} 입니다.\")\n"
   ]
  },
  {
   "cell_type": "code",
   "execution_count": 57,
   "metadata": {},
   "outputs": [
    {
     "name": "stdout",
     "output_type": "stream",
     "text": [
      "나는 내년이면 31살이 된다.\n"
     ]
    }
   ],
   "source": [
    "print(f\"나는 내년이면 {age+1}살이 된다.\")"
   ]
  },
  {
   "cell_type": "code",
   "execution_count": 59,
   "metadata": {},
   "outputs": [
    {
     "name": "stdout",
     "output_type": "stream",
     "text": [
      "나의 이름은 홍길동 입니다. 나이는 30 입니다.\n"
     ]
    }
   ],
   "source": [
    "d = {\"name\" : \"홍길동\", \"age\" : 30}\n",
    "\n",
    "print(f\"나의 이름은 {d['name']} 입니다. 나이는 {d['age']} 입니다.\")"
   ]
  },
  {
   "cell_type": "code",
   "execution_count": 67,
   "metadata": {},
   "outputs": [
    {
     "name": "stdout",
     "output_type": "stream",
     "text": [
      "정렬: hi|\n",
      "정렬: hi        |\n",
      "정렬:         hi|\n",
      "정렬:     hi    |\n",
      "공백채우기: ====hi====|\n",
      "공백채우기: ****hi****|\n",
      "소숫점 표현: 3.41136234\n",
      "소숫점 표현: 3.4114\n"
     ]
    }
   ],
   "source": [
    "a = \"hi\"\n",
    "print(f\"정렬: {a}|\")\n",
    "# 왼쪽 정렬\n",
    "print(f\"정렬: {a:<10}|\")\n",
    "# 오른쪽 정렬\n",
    "print(f\"정렬: {a:>10}|\")\n",
    "# 가운데 정렬\n",
    "print(f\"정렬: {a:^10}|\")\n",
    "# 공백 채우기\n",
    "print(f\"공백채우기: {a:=^10}|\")\n",
    "print(f\"공백채우기: {a:*^10}|\")\n",
    "\n",
    "# 소숫점 표현\n",
    "y = 3.41136234\n",
    "print(f\"소숫점 표현: {y}\")\n",
    "print(f\"소숫점 표현: {y:.4f}\")\n"
   ]
  },
  {
   "cell_type": "markdown",
   "metadata": {},
   "source": [
    "### 문자열 관련 함수들\n",
    "*count, find, index"
   ]
  },
  {
   "cell_type": "code",
   "execution_count": 72,
   "metadata": {},
   "outputs": [
    {
     "name": "stdout",
     "output_type": "stream",
     "text": [
      "5\n",
      "2\n",
      "2\n"
     ]
    }
   ],
   "source": [
    "# count()\n",
    "\n",
    "a = \"hobby\"\n",
    "\n",
    "print(len(a))\n",
    "print(a.count(\"b\"))\n",
    "print(\"hobby\".count(\"b\"))"
   ]
  },
  {
   "cell_type": "code",
   "execution_count": 74,
   "metadata": {},
   "outputs": [
    {
     "name": "stdout",
     "output_type": "stream",
     "text": [
      "14\n",
      "-1\n"
     ]
    }
   ],
   "source": [
    "# 위치 알려주기 find()\n",
    "a = \"Python is the best choice\"\n",
    "print(a.find(\"b\"))\n",
    "print(a.find(\"k\"))"
   ]
  },
  {
   "cell_type": "code",
   "execution_count": 78,
   "metadata": {},
   "outputs": [
    {
     "name": "stdout",
     "output_type": "stream",
     "text": [
      "8\n"
     ]
    },
    {
     "ename": "ValueError",
     "evalue": "substring not found",
     "output_type": "error",
     "traceback": [
      "\u001b[1;31m---------------------------------------------------------------------------\u001b[0m",
      "\u001b[1;31mValueError\u001b[0m                                Traceback (most recent call last)",
      "Cell \u001b[1;32mIn[78], line 6\u001b[0m\n\u001b[0;32m      3\u001b[0m a \u001b[38;5;241m=\u001b[39m \u001b[38;5;124m\"\u001b[39m\u001b[38;5;124mLife is too short\u001b[39m\u001b[38;5;124m\"\u001b[39m\n\u001b[0;32m      5\u001b[0m \u001b[38;5;28mprint\u001b[39m(a\u001b[38;5;241m.\u001b[39mindex(\u001b[38;5;124m\"\u001b[39m\u001b[38;5;124mt\u001b[39m\u001b[38;5;124m\"\u001b[39m))\n\u001b[1;32m----> 6\u001b[0m \u001b[38;5;28mprint\u001b[39m(\u001b[43ma\u001b[49m\u001b[38;5;241;43m.\u001b[39;49m\u001b[43mindex\u001b[49m\u001b[43m(\u001b[49m\u001b[38;5;124;43m\"\u001b[39;49m\u001b[38;5;124;43mk\u001b[39;49m\u001b[38;5;124;43m\"\u001b[39;49m\u001b[43m)\u001b[49m)\n",
      "\u001b[1;31mValueError\u001b[0m: substring not found"
     ]
    }
   ],
   "source": [
    "# 위치 알려주기 index\n",
    "\n",
    "a = \"Life is too short\"\n",
    "\n",
    "print(a.index(\"t\"))\n",
    "print(a.index(\"k\"))"
   ]
  },
  {
   "cell_type": "code",
   "execution_count": null,
   "metadata": {},
   "outputs": [],
   "source": []
  },
  {
   "cell_type": "code",
   "execution_count": null,
   "metadata": {},
   "outputs": [],
   "source": [
    "# "
   ]
  }
 ],
 "metadata": {
  "kernelspec": {
   "display_name": "Python 3",
   "language": "python",
   "name": "python3"
  },
  "language_info": {
   "codemirror_mode": {
    "name": "ipython",
    "version": 3
   },
   "file_extension": ".py",
   "mimetype": "text/x-python",
   "name": "python",
   "nbconvert_exporter": "python",
   "pygments_lexer": "ipython3",
   "version": "3.12.4"
  }
 },
 "nbformat": 4,
 "nbformat_minor": 2
}
