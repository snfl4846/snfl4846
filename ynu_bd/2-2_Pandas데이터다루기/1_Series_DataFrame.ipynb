{
 "cells": [
  {
   "cell_type": "code",
   "execution_count": null,
   "metadata": {},
   "outputs": [],
   "source": [
    "# pandas 설치\n",
    "!pip install pandas"
   ]
  },
  {
   "cell_type": "code",
   "execution_count": null,
   "metadata": {},
   "outputs": [],
   "source": [
    "import pandas as pd\n",
    "import numpy as np"
   ]
  },
  {
   "cell_type": "code",
   "execution_count": null,
   "metadata": {},
   "outputs": [],
   "source": [
    "obj = [\"이유리\", \"최민준\", \"김민지\"]\n",
    "print(type(obj))\n",
    "\n",
    "series_1 = pd.Series(obj)\n",
    "print(type(series_1))\n",
    "print((series_1))"
   ]
  },
  {
   "cell_type": "code",
   "execution_count": null,
   "metadata": {},
   "outputs": [],
   "source": [
    "obj = [\"이유리\", \"최민준\", \"김민지\"]\n",
    "idx = [\"A\", \"B\", \"C\"]\n",
    "\n",
    "Series_2 = pd.Series([\"이유리\", \"최민준\", \"김민지\"], index=idx)\n",
    "print(Series_2)"
   ]
  },
  {
   "cell_type": "code",
   "execution_count": null,
   "metadata": {},
   "outputs": [],
   "source": [
    "obj = {\n",
    "    \"A\": \"이유리\",\n",
    "    \"B\": \"최민준\",\n",
    "    \"C\": \"김민지\",\n",
    "}\n",
    "\n",
    "series_3 = pd.Series(obj)\n",
    "print(series_3)"
   ]
  },
  {
   "cell_type": "code",
   "execution_count": null,
   "metadata": {},
   "outputs": [],
   "source": [
    "# values 속성\n",
    "print(series_1.values)"
   ]
  },
  {
   "cell_type": "code",
   "execution_count": null,
   "metadata": {},
   "outputs": [],
   "source": [
    "# index 속성\n",
    "print(series_1.index)"
   ]
  },
  {
   "cell_type": "code",
   "execution_count": null,
   "metadata": {},
   "outputs": [],
   "source": [
    "# size 속성 -> 총 객체의 수\n",
    "print(series_1.size)"
   ]
  },
  {
   "cell_type": "code",
   "execution_count": null,
   "metadata": {},
   "outputs": [],
   "source": [
    "obj = [22, 32, 27, 18, 38, 19]\n",
    "idx = list(\"abcdef\") # => [\"a\", \"b\", \"c\", \"d\", \"e\", \"f\"]\n",
    "\n",
    "sr = pd.Series(obj, index=idx)\n",
    "print(sr)"
   ]
  },
  {
   "cell_type": "code",
   "execution_count": null,
   "metadata": {},
   "outputs": [],
   "source": [
    "# Series 객체의 인덱싱\n",
    "print(sr[4])\n",
    "print(sr[-1])\n",
    "print(sr[\"c\"])"
   ]
  },
  {
   "cell_type": "code",
   "execution_count": null,
   "metadata": {},
   "outputs": [],
   "source": [
    "# Series 객체의 슬라이싱\n",
    "print(sr[1:5])\n",
    "print(sr[:5])"
   ]
  },
  {
   "cell_type": "code",
   "execution_count": null,
   "metadata": {},
   "outputs": [],
   "source": [
    "print(sr[\"b\":\"d\"])"
   ]
  },
  {
   "cell_type": "code",
   "execution_count": null,
   "metadata": {},
   "outputs": [],
   "source": [
    "idx = [0, 3, 4]\n",
    "print(sr[idx])\n",
    "print(sr[[1, 5]])"
   ]
  },
  {
   "cell_type": "code",
   "execution_count": null,
   "metadata": {},
   "outputs": [],
   "source": [
    "print(sr)"
   ]
  },
  {
   "cell_type": "code",
   "execution_count": null,
   "metadata": {},
   "outputs": [],
   "source": [
    "print(sr[[\"b\", \"d\", \"f\"]])"
   ]
  },
  {
   "cell_type": "code",
   "execution_count": null,
   "metadata": {},
   "outputs": [],
   "source": [
    "# 통계 메소드\n",
    "\n",
    "sr_1 = pd.Series(range(100)) # range(100) -> [0, 1, 2, ... 99]\n",
    "print(sr_1)"
   ]
  },
  {
   "cell_type": "code",
   "execution_count": null,
   "metadata": {},
   "outputs": [],
   "source": [
    "# 집계함수 describe()-> 요약 통계량에 대한 정보\n",
    "sr_1.describe()"
   ]
  },
  {
   "cell_type": "code",
   "execution_count": null,
   "metadata": {},
   "outputs": [],
   "source": [
    "# 집계함수 count() => 총 객체 수\n",
    "sr_1.count()"
   ]
  },
  {
   "cell_type": "code",
   "execution_count": null,
   "metadata": {},
   "outputs": [],
   "source": [
    "# 집계함수 mean() 평균\n",
    "sr_1.mean()"
   ]
  },
  {
   "cell_type": "code",
   "execution_count": null,
   "metadata": {},
   "outputs": [],
   "source": [
    "# 집계함수 var() 분산\n",
    "sr_1.var()"
   ]
  },
  {
   "cell_type": "code",
   "execution_count": null,
   "metadata": {},
   "outputs": [],
   "source": [
    "# 집계함수 std() 표준편차\n",
    "sr_1.std()"
   ]
  },
  {
   "cell_type": "code",
   "execution_count": null,
   "metadata": {},
   "outputs": [],
   "source": [
    "print(sr_1.min())\n",
    "print(sr_1.max())\n",
    "print(sr_1.median())"
   ]
  },
  {
   "cell_type": "code",
   "execution_count": null,
   "metadata": {},
   "outputs": [],
   "source": [
    "# quantile() 백분위수\n",
    "print(sr_1.quantile())\n",
    "print(sr_1.quantile(q=0.25))\n",
    "print(sr_1.quantile(q=0.75))"
   ]
  },
  {
   "cell_type": "code",
   "execution_count": null,
   "metadata": {},
   "outputs": [],
   "source": [
    "sr_2 = pd.Series([\"a\", \"b\", \"b\", \"b\", \"c\", \"c\", \"d\"])\n",
    "sr_2.describe()"
   ]
  },
  {
   "cell_type": "code",
   "execution_count": null,
   "metadata": {},
   "outputs": [],
   "source": [
    "# unique() -> 유일한 값 확인\n",
    "sr_2.unique()"
   ]
  },
  {
   "cell_type": "code",
   "execution_count": null,
   "metadata": {},
   "outputs": [],
   "source": [
    "# mode 최빈값\n",
    "sr_2.mode()"
   ]
  },
  {
   "cell_type": "code",
   "execution_count": null,
   "metadata": {},
   "outputs": [],
   "source": [
    "# 데이터프레임\n",
    "\n",
    "import pandas as pd\n",
    "\n",
    "obj = {\n",
    "    \"이름\" : [\"이유리\", \"최민준\", \"김민지\"],\n",
    "    \"전공\" : [\"경영학과\", \"컴퓨터공학과\", \"데이터과학과\"],\n",
    "    \"성별\" : [\"여\", \"남\", \"여\"],\n",
    "    \"나이\" : [20, 22, 21]\n",
    "}\n",
    "\n",
    "df_1 = pd.DataFrame(obj)\n",
    "print(df_1)\n",
    "print(type(df_1))"
   ]
  },
  {
   "cell_type": "code",
   "execution_count": null,
   "metadata": {},
   "outputs": [],
   "source": [
    "import numpy as np"
   ]
  },
  {
   "cell_type": "code",
   "execution_count": null,
   "metadata": {},
   "outputs": [],
   "source": [
    "obj2 = np.array([\n",
    "    [\"이유리\", \"경영학과\", \"여\", 20],\n",
    "    [\"최민준\", \"컴퓨터공학과\", \"남\", \"21\"],\n",
    "    [\"김민지\", \"데이터과학과\", \"여\", \"21\"]\n",
    "])\n",
    "df_2 = pd.DataFrame(obj2)\n",
    "print(df_2)"
   ]
  },
  {
   "cell_type": "code",
   "execution_count": null,
   "metadata": {},
   "outputs": [],
   "source": [
    "df_3 = pd.DataFrame(\n",
    "                    obj2,\n",
    "                    columns=[\"Name\", \"Major\", \"Sex\", \"Age\"],\n",
    "                    index = [\"A\", \"B\", \"C\"])\n",
    "print(df_3)"
   ]
  },
  {
   "cell_type": "code",
   "execution_count": null,
   "metadata": {},
   "outputs": [],
   "source": [
    "obj = {\n",
    "    \"Name\" : [\"Olivia\", \"Lucas\", \"Sophia\", \"Zoe\", \"Ava\", \"Elliot\"],\n",
    "    \"Sex\" : [\"Female\", \"Male\", \"Female\", \"Female\", \"Female\", \"Male\"],\n",
    "    \"Age\" : [22, 32, 27, 18, 38, 19]\n",
    "}\n",
    "\n",
    "df = pd.DataFrame(obj)\n",
    "df"
   ]
  },
  {
   "cell_type": "code",
   "execution_count": null,
   "metadata": {},
   "outputs": [],
   "source": [
    "a = df.values\n",
    "print(a)\n",
    "print(\"-\"*24)\n",
    "print(type(a))"
   ]
  },
  {
   "cell_type": "code",
   "execution_count": null,
   "metadata": {},
   "outputs": [],
   "source": [
    "df.index"
   ]
  },
  {
   "cell_type": "code",
   "execution_count": null,
   "metadata": {},
   "outputs": [],
   "source": [
    "df.columns"
   ]
  },
  {
   "cell_type": "code",
   "execution_count": null,
   "metadata": {},
   "outputs": [],
   "source": [
    "df.dtypes"
   ]
  },
  {
   "cell_type": "code",
   "execution_count": null,
   "metadata": {},
   "outputs": [],
   "source": [
    "df.shape"
   ]
  },
  {
   "cell_type": "code",
   "execution_count": null,
   "metadata": {},
   "outputs": [],
   "source": [
    "df.info()"
   ]
  },
  {
   "cell_type": "code",
   "execution_count": null,
   "metadata": {},
   "outputs": [],
   "source": [
    "df.head()"
   ]
  },
  {
   "cell_type": "code",
   "execution_count": null,
   "metadata": {},
   "outputs": [],
   "source": [
    "df.head(1)"
   ]
  },
  {
   "cell_type": "code",
   "execution_count": null,
   "metadata": {},
   "outputs": [],
   "source": [
    "df.head(-3)"
   ]
  },
  {
   "cell_type": "code",
   "execution_count": null,
   "metadata": {},
   "outputs": [],
   "source": [
    "obj = {\n",
    "    \"Name\" : [\"Olivia\", \"Lucas\", \"Sophia\", \"Zoe\", \"Ava\", \"Elliot\"],\n",
    "    \"Sex\" : [\"Female\", \"Male\", \"Female\", \"Female\", \"Female\", \"Male\"],\n",
    "    \"Age\" : [22, 32, 27, 18, 38, 19]\n",
    "}\n",
    "\n",
    "idx = list(\"abcdef\")\n",
    "df = pd.DataFrame(obj, index = idx)\n"
   ]
  },
  {
   "cell_type": "code",
   "execution_count": null,
   "metadata": {},
   "outputs": [],
   "source": [
    "print(df[\"Name\"])"
   ]
  },
  {
   "cell_type": "code",
   "execution_count": null,
   "metadata": {},
   "outputs": [],
   "source": [
    "df.Name"
   ]
  },
  {
   "cell_type": "code",
   "execution_count": null,
   "metadata": {},
   "outputs": [],
   "source": [
    "colnm = [\"Name\", \"Age\"]\n",
    "df[colnm]"
   ]
  },
  {
   "cell_type": "code",
   "execution_count": null,
   "metadata": {},
   "outputs": [],
   "source": [
    "df.iloc[1]"
   ]
  },
  {
   "cell_type": "code",
   "execution_count": null,
   "metadata": {},
   "outputs": [],
   "source": [
    "df.iloc[1:5]"
   ]
  },
  {
   "cell_type": "code",
   "execution_count": null,
   "metadata": {},
   "outputs": [],
   "source": [
    "idx = [1, 3]\n",
    "df.iloc[idx]"
   ]
  },
  {
   "cell_type": "code",
   "execution_count": null,
   "metadata": {},
   "outputs": [],
   "source": [
    "df.loc[\"b\"]"
   ]
  },
  {
   "cell_type": "code",
   "execution_count": null,
   "metadata": {},
   "outputs": [],
   "source": [
    "df.loc[\"b\":\"e\"]"
   ]
  },
  {
   "cell_type": "code",
   "execution_count": null,
   "metadata": {},
   "outputs": [],
   "source": [
    "rownm = [\"b\",\"d\"]\n",
    "df.loc[rownm]"
   ]
  },
  {
   "cell_type": "code",
   "execution_count": null,
   "metadata": {},
   "outputs": [],
   "source": [
    "df[\"Age\"]"
   ]
  },
  {
   "cell_type": "code",
   "execution_count": null,
   "metadata": {},
   "outputs": [],
   "source": [
    "df[\"Age\"][\"a\"]"
   ]
  },
  {
   "cell_type": "code",
   "execution_count": null,
   "metadata": {},
   "outputs": [],
   "source": [
    "df[\"Age\"][0]"
   ]
  },
  {
   "cell_type": "code",
   "execution_count": null,
   "metadata": {},
   "outputs": [],
   "source": [
    "df.iloc[:, 1:]"
   ]
  },
  {
   "cell_type": "code",
   "execution_count": null,
   "metadata": {},
   "outputs": [],
   "source": [
    "df.loc[\"b\", \"Name\"]"
   ]
  },
  {
   "cell_type": "code",
   "execution_count": null,
   "metadata": {},
   "outputs": [],
   "source": [
    "rownm = ['b', 'd', 'e']\n",
    "colnm = ['Name', 'Sex']\n",
    "df.loc[rownm, colnm]"
   ]
  },
  {
   "cell_type": "code",
   "execution_count": 64,
   "metadata": {},
   "outputs": [
    {
     "data": {
      "text/html": [
       "<div>\n",
       "<style scoped>\n",
       "    .dataframe tbody tr th:only-of-type {\n",
       "        vertical-align: middle;\n",
       "    }\n",
       "\n",
       "    .dataframe tbody tr th {\n",
       "        vertical-align: top;\n",
       "    }\n",
       "\n",
       "    .dataframe thead th {\n",
       "        text-align: right;\n",
       "    }\n",
       "</style>\n",
       "<table border=\"1\" class=\"dataframe\">\n",
       "  <thead>\n",
       "    <tr style=\"text-align: right;\">\n",
       "      <th></th>\n",
       "      <th>Name</th>\n",
       "      <th>Sex</th>\n",
       "      <th>Age</th>\n",
       "      <th>Score</th>\n",
       "    </tr>\n",
       "  </thead>\n",
       "  <tbody>\n",
       "    <tr>\n",
       "      <th>0</th>\n",
       "      <td>Olivia</td>\n",
       "      <td>Female</td>\n",
       "      <td>22</td>\n",
       "      <td>100</td>\n",
       "    </tr>\n",
       "    <tr>\n",
       "      <th>1</th>\n",
       "      <td>Lucas</td>\n",
       "      <td>Male</td>\n",
       "      <td>32</td>\n",
       "      <td>95</td>\n",
       "    </tr>\n",
       "    <tr>\n",
       "      <th>2</th>\n",
       "      <td>Sophia</td>\n",
       "      <td>Female</td>\n",
       "      <td>27</td>\n",
       "      <td>60</td>\n",
       "    </tr>\n",
       "    <tr>\n",
       "      <th>3</th>\n",
       "      <td>Zoe</td>\n",
       "      <td>Female</td>\n",
       "      <td>18</td>\n",
       "      <td>77</td>\n",
       "    </tr>\n",
       "    <tr>\n",
       "      <th>4</th>\n",
       "      <td>Ava</td>\n",
       "      <td>Female</td>\n",
       "      <td>38</td>\n",
       "      <td>83</td>\n",
       "    </tr>\n",
       "    <tr>\n",
       "      <th>5</th>\n",
       "      <td>Elliot</td>\n",
       "      <td>Male</td>\n",
       "      <td>19</td>\n",
       "      <td>84</td>\n",
       "    </tr>\n",
       "  </tbody>\n",
       "</table>\n",
       "</div>"
      ],
      "text/plain": [
       "     Name     Sex  Age  Score\n",
       "0  Olivia  Female   22    100\n",
       "1   Lucas    Male   32     95\n",
       "2  Sophia  Female   27     60\n",
       "3     Zoe  Female   18     77\n",
       "4     Ava  Female   38     83\n",
       "5  Elliot    Male   19     84"
      ]
     },
     "execution_count": 64,
     "metadata": {},
     "output_type": "execute_result"
    }
   ],
   "source": [
    "obj = {\n",
    "    \"Name\" : [\"Olivia\", \"Lucas\", \"Sophia\", \"Zoe\", \"Ava\", \"Elliot\"],\n",
    "    \"Sex\" : [\"Female\", \"Male\", \"Female\", \"Female\", \"Female\", \"Male\"],\n",
    "    \"Age\" : [22, 32, 27, 18, 38, 19],\n",
    "    \"Score\": [100, 95, 60, 77, 83, 84]\n",
    "}\n",
    "\n",
    "df = pd.DataFrame(obj)\n",
    "df"
   ]
  },
  {
   "cell_type": "code",
   "execution_count": 65,
   "metadata": {},
   "outputs": [
    {
     "data": {
      "text/html": [
       "<div>\n",
       "<style scoped>\n",
       "    .dataframe tbody tr th:only-of-type {\n",
       "        vertical-align: middle;\n",
       "    }\n",
       "\n",
       "    .dataframe tbody tr th {\n",
       "        vertical-align: top;\n",
       "    }\n",
       "\n",
       "    .dataframe thead th {\n",
       "        text-align: right;\n",
       "    }\n",
       "</style>\n",
       "<table border=\"1\" class=\"dataframe\">\n",
       "  <thead>\n",
       "    <tr style=\"text-align: right;\">\n",
       "      <th></th>\n",
       "      <th>Age</th>\n",
       "      <th>Score</th>\n",
       "    </tr>\n",
       "  </thead>\n",
       "  <tbody>\n",
       "    <tr>\n",
       "      <th>count</th>\n",
       "      <td>6.000000</td>\n",
       "      <td>6.000000</td>\n",
       "    </tr>\n",
       "    <tr>\n",
       "      <th>mean</th>\n",
       "      <td>26.000000</td>\n",
       "      <td>83.166667</td>\n",
       "    </tr>\n",
       "    <tr>\n",
       "      <th>std</th>\n",
       "      <td>7.874008</td>\n",
       "      <td>14.133884</td>\n",
       "    </tr>\n",
       "    <tr>\n",
       "      <th>min</th>\n",
       "      <td>18.000000</td>\n",
       "      <td>60.000000</td>\n",
       "    </tr>\n",
       "    <tr>\n",
       "      <th>25%</th>\n",
       "      <td>19.750000</td>\n",
       "      <td>78.500000</td>\n",
       "    </tr>\n",
       "    <tr>\n",
       "      <th>50%</th>\n",
       "      <td>24.500000</td>\n",
       "      <td>83.500000</td>\n",
       "    </tr>\n",
       "    <tr>\n",
       "      <th>75%</th>\n",
       "      <td>30.750000</td>\n",
       "      <td>92.250000</td>\n",
       "    </tr>\n",
       "    <tr>\n",
       "      <th>max</th>\n",
       "      <td>38.000000</td>\n",
       "      <td>100.000000</td>\n",
       "    </tr>\n",
       "  </tbody>\n",
       "</table>\n",
       "</div>"
      ],
      "text/plain": [
       "             Age       Score\n",
       "count   6.000000    6.000000\n",
       "mean   26.000000   83.166667\n",
       "std     7.874008   14.133884\n",
       "min    18.000000   60.000000\n",
       "25%    19.750000   78.500000\n",
       "50%    24.500000   83.500000\n",
       "75%    30.750000   92.250000\n",
       "max    38.000000  100.000000"
      ]
     },
     "execution_count": 65,
     "metadata": {},
     "output_type": "execute_result"
    }
   ],
   "source": [
    "df.describe()"
   ]
  },
  {
   "cell_type": "code",
   "execution_count": null,
   "metadata": {},
   "outputs": [],
   "source": []
  }
 ],
 "metadata": {
  "kernelspec": {
   "display_name": "Python 3",
   "language": "python",
   "name": "python3"
  },
  "language_info": {
   "codemirror_mode": {
    "name": "ipython",
    "version": 3
   },
   "file_extension": ".py",
   "mimetype": "text/x-python",
   "name": "python",
   "nbconvert_exporter": "python",
   "pygments_lexer": "ipython3",
   "version": "3.12.4"
  }
 },
 "nbformat": 4,
 "nbformat_minor": 2
}
